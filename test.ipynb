{
 "cells": [
  {
   "cell_type": "code",
   "execution_count": 188,
   "metadata": {},
   "outputs": [
    {
     "name": "stdout",
     "output_type": "stream",
     "text": [
      "17\n"
     ]
    }
   ],
   "source": [
    "# s = \"aabbaccc\"\n",
    "# s = \"ababcdcdababcdcd\"\n",
    "# ab / ab / cd / cd / ab / ab / cd / cd\n",
    "# s = \"ababcd\"\n",
    "# s = \"abcabcdede\"\n",
    "\n",
    "# s = \"aabbaccc\"\n",
    "# s = \"ababcdcdababcdcd\"\n",
    "# s = \"abcabcdede\"\n",
    "# s = \"abcabcabcabcdededededede\"\n",
    "s = \"xababcdcdababcdcd\"\n",
    "\n",
    "def solution(s):\n",
    "    result = -1 # 가장 큰 압축률의 문자열 길이\n",
    "    \n",
    "    for cut in range(1, len(s)):\n",
    "        before = \"\" # 현재 문자와 비교할 이전 문자\n",
    "        count = 0 # 중복되는 카운팅 숫자\n",
    "        repeated = \"\" # 반복되는 문자열 저장\n",
    "        new_s = \"\" # 새로 압축되어 저장될 문자열\n",
    "        \n",
    "        for i in range(0, len(s), cut):\n",
    "        #     print('before : ', before)\n",
    "        #     print('s[i:cut] : ', s[i:i+cut])\n",
    "        #     print('count : ', count)\n",
    "\n",
    "            if before != s[i:i+cut]:\n",
    "                if count >= 2:\n",
    "                    new_s += str(count)+before\n",
    "                else:\n",
    "                    new_s += before\n",
    "\n",
    "                before = s[i:i+cut]\n",
    "        #         print(i, ',', before)\n",
    "                count = 1\n",
    "            elif before == s[i:i+cut]:\n",
    "                count += 1\n",
    "\n",
    "        #     print(\"===============\")\n",
    "\n",
    "        if count <= 1:\n",
    "            count = \"\"\n",
    "        new_s += str(count)+before\n",
    "#         print(len(new_s))\n",
    "        \n",
    "#         print('result: ', result, 'new_s: ', len(new_s))\n",
    "        if result > 0 and result > len(new_s):\n",
    "            result = len(new_s)\n",
    "        elif result < 0:\n",
    "            result = len(new_s)\n",
    "            \n",
    "#         print('result: ', result)\n",
    "            \n",
    "    return result\n",
    "        \n",
    "print(solution(s))"
   ]
  },
  {
   "cell_type": "code",
   "execution_count": null,
   "metadata": {},
   "outputs": [],
   "source": []
  }
 ],
 "metadata": {
  "kernelspec": {
   "display_name": "Python 3",
   "language": "python",
   "name": "python3"
  },
  "language_info": {
   "codemirror_mode": {
    "name": "ipython",
    "version": 3
   },
   "file_extension": ".py",
   "mimetype": "text/x-python",
   "name": "python",
   "nbconvert_exporter": "python",
   "pygments_lexer": "ipython3",
   "version": "3.6.8"
  }
 },
 "nbformat": 4,
 "nbformat_minor": 2
}
