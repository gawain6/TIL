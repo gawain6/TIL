{
 "cells": [
  {
   "cell_type": "code",
   "execution_count": 1,
   "metadata": {},
   "outputs": [],
   "source": [
    "import random"
   ]
  },
  {
   "cell_type": "code",
   "execution_count": 2,
   "metadata": {},
   "outputs": [],
   "source": [
    "def get_player_choice():\n",
    "    \"\"\"\n",
    "    get_player_choice() -> string\n",
    "    string : {'가위', '바위', '보'}\n",
    "    결과 값이 위 3 값 중의 하나를 보장한다.\n",
    "    \"\"\"\n",
    "    player=input('당신의 선택은 : ')\n",
    "    while player != '바위' and player != '가위' and player != '보':\n",
    "        player = input('다시 입력해주세요:')\n",
    "    return player"
   ]
  },
  {
   "cell_type": "code",
   "execution_count": 3,
   "metadata": {},
   "outputs": [],
   "source": [
    "def get_computer_choice():\n",
    "    \"\"\"\n",
    "    get_computer_choice() -> string\n",
    "    string = {'바위', '가위', '보'}\n",
    "    \"\"\"\n",
    "    # 0 -> '바위'\n",
    "    # 1 -> '가위'\n",
    "    # 2 -> '보'\n",
    "    m = ('바위', '가위', '보')\n",
    "    res = random.randint(0, 2)\n",
    "    print('컴퓨터의 선택은 : ' + m[res])\n",
    "    return m[res]"
   ]
  },
  {
   "cell_type": "code",
   "execution_count": 58,
   "metadata": {},
   "outputs": [],
   "source": [
    "def who_wins(player, computer):\n",
    "    \"\"\"\n",
    "    who_wins(player, computer) -> string\n",
    "    string={'player', 'computer', 'draw'}\n",
    "    \"\"\"\n",
    "    player_win = \"win\"\n",
    "    computer_win = \"lose\"\n",
    "        \n",
    "    if player == computer:\n",
    "        return 'draw'\n",
    "    elif player == '바위' and computer == '가위' or \\\n",
    "    player == '가위' and computer == '보' or \\\n",
    "    player == '보'and computer == '바위':\n",
    "        return 'win'\n",
    "    else:\n",
    "        return 'lose'\n",
    "    \n",
    "#     else:\n",
    "#         if player == '바위':\n",
    "#             if computer == '가위':\n",
    "#                 return player_win\n",
    "#             elif computer == '보':\n",
    "#                 return computer_win\n",
    "#         elif player == '가위':\n",
    "#             if computer == '바위':\n",
    "#                 return computer_win\n",
    "#             elif computer == '보':\n",
    "#                 return player_win\n",
    "#         else:\n",
    "#             if computer == '바위':\n",
    "#                 return player_win\n",
    "#             elif computer == '가위':\n",
    "#                 return computer_win"
   ]
  },
  {
   "cell_type": "code",
   "execution_count": 59,
   "metadata": {},
   "outputs": [],
   "source": [
    "def play_one():\n",
    "    \"\"\"\n",
    "    play_one() -> string\n",
    "    string = {'player', 'computer'}\n",
    "    한 판에 대해서 플레이어가 이기면 \"플레이어 승\" 출력\n",
    "    컴퓨터가 이기면 \"컴퓨터 승\" 출력\n",
    "    비기면 \"무승부\" 출력\n",
    "    \"\"\"\n",
    "    \n",
    "    while True:\n",
    "        print(\"\")\n",
    "        result = who_wins(get_player_choice(), get_computer_choice())\n",
    "        if result == 'win':\n",
    "            print('플레이어 승')\n",
    "            return 'player'\n",
    "            break\n",
    "        elif result == 'lose':\n",
    "            print('컴퓨터 승')\n",
    "            return 'computer'\n",
    "            break\n",
    "        else:\n",
    "            print('무승부')"
   ]
  },
  {
   "cell_type": "code",
   "execution_count": 60,
   "metadata": {},
   "outputs": [],
   "source": [
    "def play():\n",
    "    # ex) win_list=['player', 'player', 'computer']\n",
    "    win_list = []\n",
    "    \n",
    "    while True:\n",
    "        try:\n",
    "            user_num_games = int(input(\"1.3판2선승, 2.5판3선승 : \"))\n",
    "            while user_num_games != 1 and user_num_games != 2:\n",
    "                user_num_games = int(input(\"다시 입력해주세요 : \"))\n",
    "            break\n",
    "        except ValueError:\n",
    "            continue\n",
    "\n",
    "    num_games = 3 if user_num_games==1 else 5\n",
    "    won = 2 if num_games==3 else 3\n",
    "\n",
    "    for _ in range(num_games):\n",
    "        win_list.append(play_one())\n",
    "        if win_list.count('player') >= won:\n",
    "            print(\"\")\n",
    "            print('플레이어 최종 승')\n",
    "            break\n",
    "        elif win_list.count('computer') >= won:\n",
    "            print(\"\")\n",
    "            print('컴퓨터 최종 승')\n",
    "            break"
   ]
  },
  {
   "cell_type": "code",
   "execution_count": 62,
   "metadata": {},
   "outputs": [
    {
     "name": "stdout",
     "output_type": "stream",
     "text": [
      "1.3판2선승, 2.5판3선승 : 1\n",
      "\n",
      "당신의 선택은 : 가위\n",
      "컴퓨터의 선택은 : 보\n",
      "플레이어 승\n",
      "\n",
      "당신의 선택은 : 바위\n",
      "컴퓨터의 선택은 : 가위\n",
      "플레이어 승\n",
      "\n",
      "플레이어 최종 승\n"
     ]
    }
   ],
   "source": [
    "play()"
   ]
  },
  {
   "cell_type": "raw",
   "metadata": {},
   "source": []
  },
  {
   "cell_type": "code",
   "execution_count": null,
   "metadata": {},
   "outputs": [],
   "source": []
  }
 ],
 "metadata": {
  "kernelspec": {
   "display_name": "Python 3",
   "language": "python",
   "name": "python3"
  },
  "language_info": {
   "codemirror_mode": {
    "name": "ipython",
    "version": 3
   },
   "file_extension": ".py",
   "mimetype": "text/x-python",
   "name": "python",
   "nbconvert_exporter": "python",
   "pygments_lexer": "ipython3",
   "version": "3.6.7"
  }
 },
 "nbformat": 4,
 "nbformat_minor": 2
}
