{
 "cells": [
  {
   "cell_type": "code",
   "execution_count": 18,
   "metadata": {},
   "outputs": [
    {
     "name": "stdout",
     "output_type": "stream",
     "text": [
      "type: <class 'tuple'>\n",
      "(1, 2, 3, 4, 5)\n"
     ]
    }
   ],
   "source": [
    "# packing : 하나의 변수에 여러 개의 값을 넣는 것\n",
    "# unpacking : 패킹된 변수에 여러 개의 값을 꺼내오는 것\n",
    "\n",
    "container = 1, 2, 3, 4, 5 #packing\n",
    "print('type:', type(container))\n",
    "print(container)"
   ]
  },
  {
   "cell_type": "code",
   "execution_count": 3,
   "metadata": {},
   "outputs": [
    {
     "ename": "ValueError",
     "evalue": "too many values to unpack (expected 2)",
     "output_type": "error",
     "traceback": [
      "\u001b[0;31m---------------------------------------------------------------------------\u001b[0m",
      "\u001b[0;31mValueError\u001b[0m                                Traceback (most recent call last)",
      "\u001b[0;32m<ipython-input-3-db1bf0cb1bad>\u001b[0m in \u001b[0;36m<module>\u001b[0;34m\u001b[0m\n\u001b[0;32m----> 1\u001b[0;31m \u001b[0ma\u001b[0m\u001b[0;34m,\u001b[0m \u001b[0mb\u001b[0m\u001b[0;34m=\u001b[0m\u001b[0mcontainer\u001b[0m\u001b[0;34m\u001b[0m\u001b[0;34m\u001b[0m\u001b[0m\n\u001b[0m",
      "\u001b[0;31mValueError\u001b[0m: too many values to unpack (expected 2)"
     ]
    }
   ],
   "source": [
    "a, b=container # 무엇을 어디에 얼마나 담을지 몰라서 에러"
   ]
  },
  {
   "cell_type": "code",
   "execution_count": 19,
   "metadata": {},
   "outputs": [
    {
     "name": "stdout",
     "output_type": "stream",
     "text": [
      "a: 1\n",
      "b: [2, 3, 4, 5]\n"
     ]
    }
   ],
   "source": [
    "a, *b=container # unpacking\n",
    "print('a:', a)\n",
    "print('b:', b)"
   ]
  },
  {
   "cell_type": "code",
   "execution_count": 4,
   "metadata": {},
   "outputs": [
    {
     "name": "stdout",
     "output_type": "stream",
     "text": [
      "a 1\n",
      "b 2\n"
     ]
    }
   ],
   "source": [
    "dic={'a':1, 'b':2}\n",
    "\n",
    "for k, v in dic.items(): # k, v 형식 또한 unpacking\n",
    "    print(k, v)"
   ]
  },
  {
   "cell_type": "code",
   "execution_count": 8,
   "metadata": {},
   "outputs": [
    {
     "name": "stdout",
     "output_type": "stream",
     "text": [
      "(1, 2, 3)\n",
      "([3, 4, 5, 6],)\n"
     ]
    }
   ],
   "source": [
    "# 함수에서 가변인자 받는 방법\n",
    "def func(*args):\n",
    "    print(args)\n",
    "    \n",
    "func(1, 2, 3)\n",
    "\n",
    "# 리스트는 하나의 값으로 준다\n",
    "li = [3, 4, 5, 6]\n",
    "func(li)"
   ]
  },
  {
   "cell_type": "code",
   "execution_count": 11,
   "metadata": {},
   "outputs": [
    {
     "name": "stdout",
     "output_type": "stream",
     "text": [
      "1: 6\n",
      "2: 18\n"
     ]
    }
   ],
   "source": [
    "li = [3, 4, 5, 6]\n",
    "\n",
    "def sum_int(*args):\n",
    "    s=0\n",
    "    for arg in args: # args가 자동으로 packing 해줌\n",
    "        s+=arg\n",
    "    return s\n",
    "\n",
    "print('1:', sum_int(1, 2, 3))\n",
    "print('2:', sum_int(*li)) # 리스트 unpacking"
   ]
  },
  {
   "cell_type": "code",
   "execution_count": 12,
   "metadata": {},
   "outputs": [
    {
     "name": "stdout",
     "output_type": "stream",
     "text": [
      "(1, 2, 3)\n",
      "{'age': 100, 'weight': 100}\n"
     ]
    }
   ],
   "source": [
    "def sum_int2(*args, **kwargs): # 모든 인자를 다 받음.\n",
    "    print(args)\n",
    "    print(kwargs)\n",
    "\n",
    "# 키워드 아규먼트가 아규먼트보다 뒤에 존재 해야 함\n",
    "sum_int2(1, 2, 3, age=100, weight=100)"
   ]
  },
  {
   "cell_type": "code",
   "execution_count": 15,
   "metadata": {},
   "outputs": [
    {
     "name": "stdout",
     "output_type": "stream",
     "text": [
      "good\n",
      "good!\n"
     ]
    }
   ],
   "source": [
    "# 삼항 연산자\n",
    "a=10\n",
    "if a>=10:\n",
    "    print('good')\n",
    "else:\n",
    "    print('bad')\n",
    "    \n",
    "# 위와 같은 결과\n",
    "print('good!') if a>=10 else print('bad!')"
   ]
  },
  {
   "cell_type": "code",
   "execution_count": null,
   "metadata": {},
   "outputs": [],
   "source": []
  }
 ],
 "metadata": {
  "kernelspec": {
   "display_name": "Python 3",
   "language": "python",
   "name": "python3"
  },
  "language_info": {
   "codemirror_mode": {
    "name": "ipython",
    "version": 3
   },
   "file_extension": ".py",
   "mimetype": "text/x-python",
   "name": "python",
   "nbconvert_exporter": "python",
   "pygments_lexer": "ipython3",
   "version": "3.6.7"
  }
 },
 "nbformat": 4,
 "nbformat_minor": 2
}
