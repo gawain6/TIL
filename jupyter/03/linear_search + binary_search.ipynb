{
 "cells": [
  {
   "cell_type": "code",
   "execution_count": 1,
   "metadata": {},
   "outputs": [],
   "source": [
    "li = [5, 7, 2, 8, 3, 9, 1]"
   ]
  },
  {
   "cell_type": "code",
   "execution_count": 4,
   "metadata": {},
   "outputs": [],
   "source": [
    "def linear_search(li, target):\n",
    "    \"\"\"\n",
    "    linear_search(li, target) -> index\n",
    "    반환 값은 target이 있다면 target의 index\n",
    "    target이 없다면 None을 반환\n",
    "    \"\"\"\n",
    "    for i in range(len(li)):\n",
    "        if li[i] == target:\n",
    "            return i\n",
    "    return None"
   ]
  },
  {
   "cell_type": "code",
   "execution_count": 8,
   "metadata": {},
   "outputs": [
    {
     "name": "stdout",
     "output_type": "stream",
     "text": [
      "0\n"
     ]
    }
   ],
   "source": [
    "print(linear_search(li, 5))"
   ]
  },
  {
   "cell_type": "code",
   "execution_count": 33,
   "metadata": {},
   "outputs": [],
   "source": [
    "li = [3, 5, 7, 8, 9, 11, 12]"
   ]
  },
  {
   "cell_type": "code",
   "execution_count": 42,
   "metadata": {},
   "outputs": [],
   "source": [
    "# 전제조건 : 입력으로 들어오는 데이터는 반드시 정렬된 상태이어야 한다.\n",
    "def binary_search(li, target):\n",
    "    \"\"\"\n",
    "    linear_search(li, target) -> index\n",
    "    반환 값은 target이 있다면 target의 index\n",
    "    target이 없다면 None을 반환\n",
    "    \"\"\"\n",
    "    start = 0\n",
    "    end = len(li)-1\n",
    "    \n",
    "    while start <= end:\n",
    "        mid = (start+end) // 2\n",
    "        \n",
    "        if target == li[mid]:\n",
    "            return mid\n",
    "        elif target > li[mid]: # 타겟이 미드보다 크다\n",
    "            start = mid+1\n",
    "        else:\n",
    "            end = mid-1\n",
    "    return None"
   ]
  },
  {
   "cell_type": "code",
   "execution_count": 45,
   "metadata": {},
   "outputs": [
    {
     "name": "stdout",
     "output_type": "stream",
     "text": [
      "None\n"
     ]
    }
   ],
   "source": [
    "print(binary_search(li, 13))"
   ]
  }
 ],
 "metadata": {
  "kernelspec": {
   "display_name": "Python 3",
   "language": "python",
   "name": "python3"
  },
  "language_info": {
   "codemirror_mode": {
    "name": "ipython",
    "version": 3
   },
   "file_extension": ".py",
   "mimetype": "text/x-python",
   "name": "python",
   "nbconvert_exporter": "python",
   "pygments_lexer": "ipython3",
   "version": "3.6.7"
  }
 },
 "nbformat": 4,
 "nbformat_minor": 2
}
