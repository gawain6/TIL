{
 "cells": [
  {
   "cell_type": "code",
   "execution_count": null,
   "metadata": {},
   "outputs": [],
   "source": [
    "# quadtree"
   ]
  },
  {
   "cell_type": "code",
   "execution_count": 9,
   "metadata": {},
   "outputs": [],
   "source": [
    "n=16\n",
    "compressed=\"xxwwwbxwxwbbbwwxxxwwbbbwwwwbb\""
   ]
  },
  {
   "cell_type": "code",
   "execution_count": 36,
   "metadata": {},
   "outputs": [],
   "source": [
    "# inorder(중위순회로 이루어진 반복자)\n",
    "class Iterator:\n",
    "    def __init__(self, raw_string):\n",
    "        self.string=raw_string\n",
    "        self.iterator=-1\n",
    "        \n",
    "    def __iter__(self):\n",
    "        return self\n",
    "    \n",
    "    def __next__(self):\n",
    "        self.iterator+=1\n",
    "        if self.iterator == len(self.string):\n",
    "            raise StropIteration\n",
    "        return self.string[self.iterator]"
   ]
  },
  {
   "cell_type": "code",
   "execution_count": 37,
   "metadata": {},
   "outputs": [],
   "source": [
    "it=Iterator(compressed)"
   ]
  },
  {
   "cell_type": "code",
   "execution_count": 21,
   "metadata": {},
   "outputs": [
    {
     "data": {
      "text/plain": [
       "'x'"
      ]
     },
     "execution_count": 21,
     "metadata": {},
     "output_type": "execute_result"
    }
   ],
   "source": [
    "# next(it)"
   ]
  },
  {
   "cell_type": "code",
   "execution_count": 55,
   "metadata": {},
   "outputs": [],
   "source": [
    "ret=[[None for _ in range(n)] for _ in range(n)] # None 으로 채워진 n*n 짜리 그림판 생김\n",
    "def decompress(it, y, x, size):\n",
    "    #base case\n",
    "    c=next(it)\n",
    "    if c=='b' or c=='w':\n",
    "        for i in range(size):\n",
    "            for j in range(size):\n",
    "                ret[y+i][x+j]=c\n",
    "    \n",
    "    # 언제 decompress를 다시 호출할 것인가\n",
    "    # c가 x일 때\n",
    "    else:\n",
    "        new_size = size//2\n",
    "        decompress(it, y, x, new_size)\n",
    "        decompress(it, y, x+new_size, new_size)\n",
    "        decompress(it, y+new_size, x, new_size)\n",
    "        decompress(it, y+new_size, x+new_size, new_size)"
   ]
  },
  {
   "cell_type": "code",
   "execution_count": 56,
   "metadata": {},
   "outputs": [],
   "source": [
    "decompress(Iterator(compressed), 0, 0, n)"
   ]
  },
  {
   "cell_type": "code",
   "execution_count": 57,
   "metadata": {},
   "outputs": [
    {
     "name": "stdout",
     "output_type": "stream",
     "text": [
      " - - - - - - - - - - - - - - # #\n",
      " - - - - - - - - - - - - - - # #\n",
      " - - - - - - - - - - - - # # # #\n",
      " - - - - - - - - - - - - # # # #\n",
      " - - - - # # # # - - - - - - - -\n",
      " - - - - # # # # - - - - - - - -\n",
      " - - - - # # # # - - - - - - - -\n",
      " - - - - # # # # - - - - - - - -\n",
      " - - # # - - - - # # # # # # # #\n",
      " # # # # - - - - # # # # # # # #\n",
      " - - - - - - - - # # # # # # # #\n",
      " - - - - - - - - # # # # # # # #\n",
      " - - - - # # # # # # # # # # # #\n",
      " - - - - # # # # # # # # # # # #\n",
      " - - - - # # # # # # # # # # # #\n",
      " - - - - # # # # # # # # # # # #\n"
     ]
    }
   ],
   "source": [
    "for row in ret:\n",
    "    for c in row:\n",
    "        if c=='b':\n",
    "            print(' #', end=\"\")\n",
    "        else:\n",
    "            print(' -', end=\"\")\n",
    "    print()"
   ]
  },
  {
   "cell_type": "code",
   "execution_count": 60,
   "metadata": {},
   "outputs": [],
   "source": [
    "def solve(it):\n",
    "    head=next(it)\n",
    "    if head=='b' or head=='w':\n",
    "        return head\n",
    "    # head = 'x'\n",
    "    else:\n",
    "        c1=solve(it)\n",
    "        c2=solve(it)\n",
    "        c3=solve(it)\n",
    "        c4=solve(it)\n",
    "        return 'x'+c3+c4+c1+c2"
   ]
  },
  {
   "cell_type": "code",
   "execution_count": 70,
   "metadata": {},
   "outputs": [],
   "source": [
    "compressed=solve(Iterator(compressed))"
   ]
  },
  {
   "cell_type": "code",
   "execution_count": 71,
   "metadata": {},
   "outputs": [],
   "source": [
    "decompress(Iterator(compressed), 0, 0, n)"
   ]
  },
  {
   "cell_type": "code",
   "execution_count": 72,
   "metadata": {},
   "outputs": [
    {
     "name": "stdout",
     "output_type": "stream",
     "text": [
      " - - - - # # # # # # # # # # # #\n",
      " - - - - # # # # # # # # # # # #\n",
      " - - - - # # # # # # # # # # # #\n",
      " - - - - # # # # # # # # # # # #\n",
      " - - - - - - - - # # # # # # # #\n",
      " - - - - - - - - # # # # # # # #\n",
      " # # # # - - - - # # # # # # # #\n",
      " - - # # - - - - # # # # # # # #\n",
      " - - - - # # # # - - - - - - - -\n",
      " - - - - # # # # - - - - - - - -\n",
      " - - - - # # # # - - - - - - - -\n",
      " - - - - # # # # - - - - - - - -\n",
      " - - - - - - - - - - - - # # # #\n",
      " - - - - - - - - - - - - # # # #\n",
      " - - - - - - - - - - - - - - # #\n",
      " - - - - - - - - - - - - - - # #\n"
     ]
    }
   ],
   "source": [
    "for row in ret:\n",
    "    for c in row:\n",
    "        if c=='b':\n",
    "            print(' #', end=\"\")\n",
    "        else:\n",
    "            print(' -', end=\"\")\n",
    "    print()"
   ]
  },
  {
   "cell_type": "code",
   "execution_count": null,
   "metadata": {},
   "outputs": [],
   "source": []
  },
  {
   "cell_type": "markdown",
   "metadata": {},
   "source": [
    "울타리 잘라내기\n",
    "\n",
    "너비가 1인 판자를 붙인 울타리가 있다.\n",
    "\n",
    "판자의 높이가 주어지고\n",
    "\n",
    "울타리의 일부를 잘라내려고 할 때\n",
    "\n",
    "가장 넓이가 넓게 잘라내는 프로그램을 작성하시오."
   ]
  },
  {
   "cell_type": "code",
   "execution_count": 93,
   "metadata": {},
   "outputs": [],
   "source": [
    "n=7\n",
    "height=[7, 1, 5, 9, 6, 7, 3]"
   ]
  },
  {
   "cell_type": "code",
   "execution_count": 101,
   "metadata": {},
   "outputs": [],
   "source": [
    "# exhaustive solution\n",
    "\n",
    "def exhaustive():\n",
    "    ret = 0\n",
    "    for left in range(n):\n",
    "        h=height[left]\n",
    "        for right in range(left, n):\n",
    "            h=min(h, height[right])\n",
    "            temp=(right-left+1)*h\n",
    "            ret=max(ret, temp)\n",
    "    return ret"
   ]
  },
  {
   "cell_type": "code",
   "execution_count": 102,
   "metadata": {},
   "outputs": [
    {
     "data": {
      "text/plain": [
       "20"
      ]
     },
     "execution_count": 102,
     "metadata": {},
     "output_type": "execute_result"
    }
   ],
   "source": [
    "exhaustive()"
   ]
  },
  {
   "cell_type": "code",
   "execution_count": 109,
   "metadata": {},
   "outputs": [],
   "source": [
    "# divide and conquer\n",
    "def divide_and_conquer(left, right):\n",
    "    # base case\n",
    "    if left==right:\n",
    "        return height[left]\n",
    "    \n",
    "    # max of A --> [left]\n",
    "    mid=(left+right)//2\n",
    "    lret=divide_and_conquer(left, mid)\n",
    "    \n",
    "    # max of A --> [right]\n",
    "    rret=divide_and_conquer(mid+1, right)\n",
    "    ret=max(lret, rret)\n",
    "    \n",
    "    low = mid\n",
    "    high = mid+1\n",
    "    h=min(height[low], height[high])\n",
    "    ret=max(ret, h*2)\n",
    "    while low > left or high < right:\n",
    "        if low > left and (high==right or height[low-1] > height[high+1]):\n",
    "            low-=1\n",
    "            h=min(h, height[low])\n",
    "        else:\n",
    "            high+=1\n",
    "            h=min(h, height[high])\n",
    "            \n",
    "        ret=max(ret, h*(high-low+1))\n",
    "    return ret"
   ]
  },
  {
   "cell_type": "code",
   "execution_count": 110,
   "metadata": {},
   "outputs": [
    {
     "data": {
      "text/plain": [
       "20"
      ]
     },
     "execution_count": 110,
     "metadata": {},
     "output_type": "execute_result"
    }
   ],
   "source": [
    "divide_and_conquer(0, n-1)"
   ]
  }
 ],
 "metadata": {
  "kernelspec": {
   "display_name": "Python 3",
   "language": "python",
   "name": "python3"
  },
  "language_info": {
   "codemirror_mode": {
    "name": "ipython",
    "version": 3
   },
   "file_extension": ".py",
   "mimetype": "text/x-python",
   "name": "python",
   "nbconvert_exporter": "python",
   "pygments_lexer": "ipython3",
   "version": "3.6.8"
  }
 },
 "nbformat": 4,
 "nbformat_minor": 2
}
